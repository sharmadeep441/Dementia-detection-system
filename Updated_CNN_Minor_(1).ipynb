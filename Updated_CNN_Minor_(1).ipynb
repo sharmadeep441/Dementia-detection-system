{
  "nbformat": 4,
  "nbformat_minor": 0,
  "metadata": {
    "colab": {
      "name": "Updated_CNN_Minor (1).ipynb",
      "provenance": [],
      "collapsed_sections": [],
      "include_colab_link": true
    },
    "kernelspec": {
      "name": "python3",
      "display_name": "Python 3"
    },
    "language_info": {
      "name": "python"
    }
  },
  "cells": [
    {
      "cell_type": "markdown",
      "metadata": {
        "id": "view-in-github",
        "colab_type": "text"
      },
      "source": [
        "<a href=\"https://colab.research.google.com/github/sharmadeep441/Dementia-detection-system/blob/main/Updated_CNN_Minor_(1).ipynb\" target=\"_parent\"><img src=\"https://colab.research.google.com/assets/colab-badge.svg\" alt=\"Open In Colab\"/></a>"
      ]
    },
    {
      "cell_type": "code",
      "execution_count": null,
      "metadata": {
        "id": "DuSCz6m1YLbi"
      },
      "outputs": [],
      "source": [
        "import numpy as np\n",
        "import pandas as pd\n",
        "import matplotlib.pyplot as plt\n",
        "import seaborn as sn\n",
        "import skimage.io\n",
        "import os \n",
        "import tqdm\n",
        "import glob\n",
        "import tensorflow \n",
        "\n",
        "from tqdm import tqdm\n",
        "from sklearn.utils import shuffle\n",
        "from sklearn import metrics\n",
        "\n",
        "from sklearn.metrics import confusion_matrix, classification_report\n",
        "from sklearn.model_selection import train_test_split\n",
        "\n",
        "from skimage.io import imread, imshow\n",
        "from skimage.transform import resize\n",
        "from skimage.color import grey2rgb\n",
        "\n",
        "import tensorflow as tf\n",
        "from tensorflow.keras.preprocessing.image import ImageDataGenerator\n",
        "from tensorflow.keras.preprocessing import image_dataset_from_directory\n",
        "from tensorflow.keras.models import Sequential\n",
        "from tensorflow.keras.layers import InputLayer, BatchNormalization, Dropout, Flatten, Dense, Activation, MaxPooling2D, Conv2D\n",
        "from tensorflow.keras.callbacks import EarlyStopping, ModelCheckpoint\n",
        "from tensorflow.keras.applications.resnet50 import ResNet50\n",
        "from tensorflow.keras.utils import to_categorical\n",
        "from keras import optimizers\n",
        "\n",
        "from keras.callbacks import Callback,ModelCheckpoint\n",
        "from keras.models import Sequential,load_model\n",
        "from keras.layers import Dense, Dropout\n",
        "from keras.wrappers.scikit_learn import KerasClassifier\n",
        "import keras.backend as K\n",
        "\n",
        "\n",
        "from typeguard import typechecked\n",
        "from typing import Optional"
      ]
    },
    {
      "cell_type": "code",
      "source": [
        "from google.colab import drive\n",
        "drive.mount('/content/drive/')"
      ],
      "metadata": {
        "colab": {
          "base_uri": "https://localhost:8080/"
        },
        "id": "yCkc93EmYlP9",
        "outputId": "aa6e119d-faba-4c91-e585-7b27a534bc5f"
      },
      "execution_count": null,
      "outputs": [
        {
          "output_type": "stream",
          "name": "stdout",
          "text": [
            "Mounted at /content/drive/\n"
          ]
        }
      ]
    },
    {
      "cell_type": "code",
      "source": [
        "%cd ~/dataaa\n",
        "\n",
        "\n",
        "fileId = '1k9objkB5kqv30TgS1HHYybHmA2rPm_M0'\n",
        "\n",
        "import os\n",
        "from zipfile import ZipFile\n",
        "from shutil import copy\n",
        "from pydrive.auth import GoogleAuth\n",
        "from pydrive.drive import GoogleDrive\n",
        "from google.colab import auth\n",
        "from oauth2client.client import GoogleCredentials\n",
        "\n",
        "os.makedirs('datasets')\n",
        "os.chdir('datasets')\n",
        "\n",
        "auth.authenticate_user()\n",
        "gauth = GoogleAuth()\n",
        "gauth.credentials = GoogleCredentials.get_application_default()\n",
        "drive = GoogleDrive(gauth)\n",
        "\n",
        "fileName = fileId + '.zip'\n",
        "downloaded = drive.CreateFile({'id': fileId})\n",
        "downloaded.GetContentFile(fileName)\n",
        "ds = ZipFile(fileName)\n",
        "ds.extractall()\n",
        "os.remove(fileName)\n",
        "print('Extracted zip file ' + fileName)"
      ],
      "metadata": {
        "colab": {
          "base_uri": "https://localhost:8080/"
        },
        "id": "npPGJvkfhy_j",
        "outputId": "cf67c54e-1bcb-438b-9c9a-4855145dc4cf"
      },
      "execution_count": null,
      "outputs": [
        {
          "output_type": "stream",
          "name": "stdout",
          "text": [
            "[Errno 2] No such file or directory: '/root/dataaa'\n",
            "/content\n",
            "Extracted zip file 1k9objkB5kqv30TgS1HHYybHmA2rPm_M0.zip\n"
          ]
        }
      ]
    },
    {
      "cell_type": "code",
      "source": [
        "train_datagen = ImageDataGenerator(rescale = 1./255,\n",
        "                                   validation_split = 0.2,\n",
        "                                  \n",
        "        rotation_range=5,\n",
        "        width_shift_range=0.2,\n",
        "        height_shift_range=0.2,\n",
        "        shear_range=0.2,\n",
        "        zoom_range=0.2,\n",
        "        horizontal_flip=True,\n",
        "        vertical_flip=True,\n",
        "        fill_mode='nearest')\n",
        "\n",
        "valid_datagen = ImageDataGenerator(rescale = 1./255,\n",
        "                                  validation_split = 0.2)\n",
        "\n",
        "test_datagen  = ImageDataGenerator(rescale = 1./255\n",
        "                                  )"
      ],
      "metadata": {
        "id": "_BNcInYUYWH9"
      },
      "execution_count": null,
      "outputs": []
    },
    {
      "cell_type": "code",
      "source": [
        "\n",
        "train_dataset  = train_datagen.flow_from_directory(directory = '/content/datasets/Alzheimer_s Dataset/train',\n",
        "                                                   target_size = (180,180),\n",
        "                                                   class_mode = 'categorical',\n",
        "                                                   subset = 'training',\n",
        "                                        \n",
        "                                                   batch_size = 32)"
      ],
      "metadata": {
        "colab": {
          "base_uri": "https://localhost:8080/"
        },
        "id": "j9uB2gBiYeWK",
        "outputId": "ac0821c9-cd49-48dc-c7fe-5f152705e824"
      },
      "execution_count": null,
      "outputs": [
        {
          "output_type": "stream",
          "name": "stdout",
          "text": [
            "Found 4098 images belonging to 4 classes.\n"
          ]
        }
      ]
    },
    {
      "cell_type": "code",
      "source": [
        "valid_dataset = valid_datagen.flow_from_directory(directory = '/content/datasets/Alzheimer_s Dataset/train',\n",
        "                                                  target_size = (180,180),\n",
        "                                                  class_mode = 'categorical',\n",
        "                                                  subset = 'validation',\n",
        "                                                  batch_size = 32)"
      ],
      "metadata": {
        "colab": {
          "base_uri": "https://localhost:8080/"
        },
        "id": "BxcB_WGcY7qw",
        "outputId": "f6cb8ef1-a8e2-4c89-bf6f-c3a6a4f35c79"
      },
      "execution_count": null,
      "outputs": [
        {
          "output_type": "stream",
          "name": "stdout",
          "text": [
            "Found 1023 images belonging to 4 classes.\n"
          ]
        }
      ]
    },
    {
      "cell_type": "code",
      "source": [
        "test_dataset = test_datagen.flow_from_directory(directory = '/content/datasets/Alzheimer_s Dataset/test',\n",
        "                                                  target_size = (180,180),\n",
        "                                                  class_mode = 'categorical',\n",
        "                                                  batch_size = 32)"
      ],
      "metadata": {
        "colab": {
          "base_uri": "https://localhost:8080/"
        },
        "id": "GQyKbtLQZCsz",
        "outputId": "a18c4bdf-e142-4d5d-cd01-0270fc2d5040"
      },
      "execution_count": null,
      "outputs": [
        {
          "output_type": "stream",
          "name": "stdout",
          "text": [
            "Found 1279 images belonging to 4 classes.\n"
          ]
        }
      ]
    },
    {
      "cell_type": "code",
      "source": [
        "from keras.layers import AveragePooling2D\n",
        "\n",
        "def build_model():\n",
        "    \n",
        "    '''Sequential Model creation'''\n",
        "    model = Sequential()\n",
        "    model.add(Conv2D(32,(3,3),padding='same',strides=(2, 2),input_shape = (180,180,3),activation='relu'))\n",
        "    \n",
        "    model.add(Conv2D(32,(3,3),padding='same',strides=(2, 2),activation='relu'))\n",
        "    \n",
        "    \n",
        "    model.add(Conv2D(64,(3,3),padding='same',strides=(2, 2),activation='relu'))\n",
        "    \n",
        "    \n",
        "    model.add(Conv2D(64,(3,3),padding='same',strides=(2, 2),activation='relu'))\n",
        "    \n",
        "    model.add(Conv2D(64,(3,3),padding='same',strides=(2, 2),activation='relu'))\n",
        "    \n",
        "    model.add(Conv2D(64,(3,3),padding='same',strides=(2, 2),activation='relu'))\n",
        "    \n",
        "    \n",
        "    model.add(Conv2D(64,(3,3),padding='same',strides=(2, 2),activation='relu'))\n",
        "    model.add(AveragePooling2D(pool_size=(2,2),strides=1,padding = 'same'))\n",
        "    \n",
        "    \n",
        "    model.add(Flatten())\n",
        "    model.add(Dense(128))\n",
        "    model.add(Dense(4))\n",
        "    model.add(Activation('softmax'))\n",
        "    \n",
        "    return model\n",
        "\n",
        "model = build_model()\n",
        "model.summary()"
      ],
      "metadata": {
        "colab": {
          "base_uri": "https://localhost:8080/"
        },
        "id": "OkdEmVuGZT6U",
        "outputId": "05d89884-d2e0-44fa-e131-be6ca869f04e"
      },
      "execution_count": null,
      "outputs": [
        {
          "output_type": "stream",
          "name": "stdout",
          "text": [
            "Model: \"sequential\"\n",
            "_________________________________________________________________\n",
            " Layer (type)                Output Shape              Param #   \n",
            "=================================================================\n",
            " conv2d (Conv2D)             (None, 90, 90, 32)        896       \n",
            "                                                                 \n",
            " conv2d_1 (Conv2D)           (None, 45, 45, 32)        9248      \n",
            "                                                                 \n",
            " conv2d_2 (Conv2D)           (None, 23, 23, 64)        18496     \n",
            "                                                                 \n",
            " conv2d_3 (Conv2D)           (None, 12, 12, 64)        36928     \n",
            "                                                                 \n",
            " conv2d_4 (Conv2D)           (None, 6, 6, 64)          36928     \n",
            "                                                                 \n",
            " conv2d_5 (Conv2D)           (None, 3, 3, 64)          36928     \n",
            "                                                                 \n",
            " conv2d_6 (Conv2D)           (None, 2, 2, 64)          36928     \n",
            "                                                                 \n",
            " average_pooling2d (AverageP  (None, 2, 2, 64)         0         \n",
            " ooling2D)                                                       \n",
            "                                                                 \n",
            " flatten (Flatten)           (None, 256)               0         \n",
            "                                                                 \n",
            " dense (Dense)               (None, 128)               32896     \n",
            "                                                                 \n",
            " dense_1 (Dense)             (None, 4)                 516       \n",
            "                                                                 \n",
            " activation (Activation)     (None, 4)                 0         \n",
            "                                                                 \n",
            "=================================================================\n",
            "Total params: 209,764\n",
            "Trainable params: 209,764\n",
            "Non-trainable params: 0\n",
            "_________________________________________________________________\n"
          ]
        }
      ]
    },
    {
      "cell_type": "code",
      "source": [
        "def f1_score(y_true, y_pred): #taken from old keras source code\n",
        "    true_positives = K.sum(K.round(K.clip(y_true * y_pred, 0, 1)))\n",
        "    possible_positives = K.sum(K.round(K.clip(y_true, 0, 1)))\n",
        "    predicted_positives = K.sum(K.round(K.clip(y_pred, 0, 1)))\n",
        "    precision = true_positives / (predicted_positives + K.epsilon())\n",
        "    recall = true_positives / (possible_positives + K.epsilon())\n",
        "    f1_val = 2*(precision*recall)/(precision+recall+K.epsilon())\n",
        "    return f1_val"
      ],
      "metadata": {
        "id": "2JGGIVyFaSBu"
      },
      "execution_count": null,
      "outputs": []
    },
    {
      "cell_type": "code",
      "source": [
        "METRICS = [\n",
        "      tf.keras.metrics.BinaryAccuracy(name='accuracy'),\n",
        "      tf.keras.metrics.Precision(name='precision'),\n",
        "      tf.keras.metrics.Recall(name='recall'),  \n",
        "      tf.keras.metrics.AUC(name='auc'),\n",
        "        f1_score,\n",
        "]"
      ],
      "metadata": {
        "id": "PzkfoMO0ZrtS"
      },
      "execution_count": null,
      "outputs": []
    },
    {
      "cell_type": "code",
      "source": [
        ""
      ],
      "metadata": {
        "id": "D4jFo2kra6Bn"
      },
      "execution_count": null,
      "outputs": []
    },
    {
      "cell_type": "code",
      "source": [
        "model.compile(optimizer='adam', loss='categorical_crossentropy', metrics = METRICS)"
      ],
      "metadata": {
        "id": "e3LtuaykZmeO"
      },
      "execution_count": null,
      "outputs": []
    },
    {
      "cell_type": "code",
      "source": [
        "history=model.fit(train_dataset,\n",
        "                        validation_data=valid_dataset,\n",
        "                        epochs = 30,\n",
        "                        verbose = 1)\n",
        "                  "
      ],
      "metadata": {
        "colab": {
          "base_uri": "https://localhost:8080/"
        },
        "id": "7taa5YVXZ14z",
        "outputId": "7cb224e2-da01-4261-b406-3dca95db7503"
      },
      "execution_count": null,
      "outputs": [
        {
          "output_type": "stream",
          "name": "stdout",
          "text": [
            "Epoch 1/30\n",
            "129/129 [==============================] - 68s 508ms/step - loss: 1.0646 - accuracy: 0.7534 - precision: 0.5142 - recall: 0.2426 - auc: 0.7784 - f1_score: 0.2702 - val_loss: 1.0272 - val_accuracy: 0.7774 - val_precision: 0.5763 - val_recall: 0.4135 - val_auc: 0.8190 - val_f1_score: 0.4799\n",
            "Epoch 2/30\n",
            "129/129 [==============================] - 65s 506ms/step - loss: 1.0481 - accuracy: 0.7589 - precision: 0.5417 - recall: 0.2316 - auc: 0.7833 - f1_score: 0.2600 - val_loss: 1.0352 - val_accuracy: 0.7505 - val_precision: 0.5010 - val_recall: 0.5005 - val_auc: 0.8192 - val_f1_score: 0.5006\n",
            "Epoch 3/30\n",
            "129/129 [==============================] - 65s 505ms/step - loss: 1.0370 - accuracy: 0.7617 - precision: 0.5542 - recall: 0.2384 - auc: 0.7875 - f1_score: 0.2863 - val_loss: 1.0576 - val_accuracy: 0.7502 - val_precision: 0.5005 - val_recall: 0.5005 - val_auc: 0.7720 - val_f1_score: 0.5005\n",
            "Epoch 4/30\n",
            "129/129 [==============================] - 66s 507ms/step - loss: 1.0375 - accuracy: 0.7507 - precision: 0.5026 - recall: 0.2570 - auc: 0.7812 - f1_score: 0.2694 - val_loss: 0.9671 - val_accuracy: 0.7974 - val_precision: 0.6757 - val_recall: 0.3646 - val_auc: 0.8223 - val_f1_score: 0.4698\n",
            "Epoch 5/30\n",
            "129/129 [==============================] - 65s 504ms/step - loss: 0.9920 - accuracy: 0.7775 - precision: 0.6330 - recall: 0.2613 - auc: 0.8059 - f1_score: 0.3414 - val_loss: 0.9120 - val_accuracy: 0.7996 - val_precision: 0.7221 - val_recall: 0.3226 - val_auc: 0.8400 - val_f1_score: 0.4420\n",
            "Epoch 6/30\n",
            "129/129 [==============================] - 65s 502ms/step - loss: 0.9743 - accuracy: 0.7854 - precision: 0.6676 - recall: 0.2818 - auc: 0.8124 - f1_score: 0.3816 - val_loss: 0.9149 - val_accuracy: 0.7994 - val_precision: 0.7244 - val_recall: 0.3187 - val_auc: 0.8363 - val_f1_score: 0.4394\n",
            "Epoch 7/30\n",
            "129/129 [==============================] - 66s 507ms/step - loss: 0.9566 - accuracy: 0.7895 - precision: 0.6884 - recall: 0.2884 - auc: 0.8193 - f1_score: 0.3982 - val_loss: 0.9082 - val_accuracy: 0.8016 - val_precision: 0.7592 - val_recall: 0.3021 - val_auc: 0.8368 - val_f1_score: 0.4296\n",
            "Epoch 8/30\n",
            "129/129 [==============================] - 65s 504ms/step - loss: 0.9329 - accuracy: 0.7906 - precision: 0.6973 - recall: 0.2872 - auc: 0.8266 - f1_score: 0.3969 - val_loss: 0.9059 - val_accuracy: 0.7974 - val_precision: 0.6816 - val_recall: 0.3558 - val_auc: 0.8313 - val_f1_score: 0.4643\n",
            "Epoch 9/30\n",
            "129/129 [==============================] - 65s 503ms/step - loss: 0.9287 - accuracy: 0.7957 - precision: 0.7174 - recall: 0.3016 - auc: 0.8292 - f1_score: 0.4188 - val_loss: 0.9420 - val_accuracy: 0.7952 - val_precision: 0.8745 - val_recall: 0.2111 - val_auc: 0.8249 - val_f1_score: 0.3360\n",
            "Epoch 10/30\n",
            "129/129 [==============================] - 65s 504ms/step - loss: 0.9217 - accuracy: 0.7938 - precision: 0.7163 - recall: 0.2901 - auc: 0.8326 - f1_score: 0.4034 - val_loss: 0.9069 - val_accuracy: 0.7955 - val_precision: 0.6809 - val_recall: 0.3421 - val_auc: 0.8293 - val_f1_score: 0.4520\n",
            "Epoch 11/30\n",
            "129/129 [==============================] - 66s 508ms/step - loss: 0.9112 - accuracy: 0.7962 - precision: 0.7149 - recall: 0.3072 - auc: 0.8343 - f1_score: 0.4263 - val_loss: 0.8946 - val_accuracy: 0.8038 - val_precision: 0.8313 - val_recall: 0.2698 - val_auc: 0.8378 - val_f1_score: 0.3985\n",
            "Epoch 12/30\n",
            "129/129 [==============================] - 65s 501ms/step - loss: 0.9185 - accuracy: 0.7948 - precision: 0.7189 - recall: 0.2945 - auc: 0.8323 - f1_score: 0.4072 - val_loss: 0.8860 - val_accuracy: 0.8040 - val_precision: 0.7797 - val_recall: 0.3011 - val_auc: 0.8377 - val_f1_score: 0.4303\n",
            "Epoch 13/30\n",
            "129/129 [==============================] - 65s 501ms/step - loss: 0.9089 - accuracy: 0.7954 - precision: 0.7216 - recall: 0.2960 - auc: 0.8370 - f1_score: 0.4164 - val_loss: 0.9128 - val_accuracy: 0.7913 - val_precision: 0.6693 - val_recall: 0.3265 - val_auc: 0.8285 - val_f1_score: 0.4362\n",
            "Epoch 14/30\n",
            "129/129 [==============================] - 65s 502ms/step - loss: 0.9027 - accuracy: 0.7967 - precision: 0.7114 - recall: 0.3145 - auc: 0.8402 - f1_score: 0.4325 - val_loss: 0.8892 - val_accuracy: 0.8001 - val_precision: 0.7446 - val_recall: 0.3050 - val_auc: 0.8318 - val_f1_score: 0.4286\n",
            "Epoch 15/30\n",
            "129/129 [==============================] - 65s 501ms/step - loss: 0.8904 - accuracy: 0.8001 - precision: 0.7085 - recall: 0.3404 - auc: 0.8449 - f1_score: 0.4569 - val_loss: 0.9352 - val_accuracy: 0.7674 - val_precision: 0.5556 - val_recall: 0.3470 - val_auc: 0.8200 - val_f1_score: 0.4261\n",
            "Epoch 16/30\n",
            "129/129 [==============================] - 64s 498ms/step - loss: 0.8881 - accuracy: 0.7981 - precision: 0.6983 - recall: 0.3389 - auc: 0.8448 - f1_score: 0.4557 - val_loss: 1.0732 - val_accuracy: 0.7659 - val_precision: 0.6349 - val_recall: 0.1496 - val_auc: 0.7390 - val_f1_score: 0.2392\n",
            "Epoch 17/30\n",
            "129/129 [==============================] - 65s 500ms/step - loss: 0.9010 - accuracy: 0.7996 - precision: 0.7227 - recall: 0.3219 - auc: 0.8390 - f1_score: 0.4359 - val_loss: 0.9154 - val_accuracy: 0.7945 - val_precision: 0.6912 - val_recall: 0.3216 - val_auc: 0.8224 - val_f1_score: 0.4356\n",
            "Epoch 18/30\n",
            "129/129 [==============================] - 65s 501ms/step - loss: 0.8972 - accuracy: 0.7990 - precision: 0.7074 - recall: 0.3346 - auc: 0.8411 - f1_score: 0.4501 - val_loss: 0.8916 - val_accuracy: 0.8001 - val_precision: 0.7423 - val_recall: 0.3069 - val_auc: 0.8323 - val_f1_score: 0.4280\n",
            "Epoch 19/30\n",
            "129/129 [==============================] - 65s 502ms/step - loss: 0.8861 - accuracy: 0.7990 - precision: 0.7079 - recall: 0.3336 - auc: 0.8450 - f1_score: 0.4449 - val_loss: 0.8961 - val_accuracy: 0.8018 - val_precision: 0.7663 - val_recall: 0.2981 - val_auc: 0.8318 - val_f1_score: 0.4241\n",
            "Epoch 20/30\n",
            "129/129 [==============================] - 64s 498ms/step - loss: 0.8841 - accuracy: 0.7989 - precision: 0.7124 - recall: 0.3282 - auc: 0.8455 - f1_score: 0.4458 - val_loss: 0.9086 - val_accuracy: 0.7867 - val_precision: 0.6399 - val_recall: 0.3353 - val_auc: 0.8287 - val_f1_score: 0.4363\n",
            "Epoch 21/30\n",
            "129/129 [==============================] - 65s 499ms/step - loss: 0.8922 - accuracy: 0.7990 - precision: 0.6929 - recall: 0.3524 - auc: 0.8432 - f1_score: 0.4626 - val_loss: 0.9306 - val_accuracy: 0.7857 - val_precision: 0.6540 - val_recall: 0.3030 - val_auc: 0.8134 - val_f1_score: 0.4121\n",
            "Epoch 22/30\n",
            "129/129 [==============================] - 64s 498ms/step - loss: 0.8842 - accuracy: 0.8006 - precision: 0.6999 - recall: 0.3546 - auc: 0.8457 - f1_score: 0.4627 - val_loss: 0.9075 - val_accuracy: 0.7845 - val_precision: 0.6270 - val_recall: 0.3402 - val_auc: 0.8290 - val_f1_score: 0.4388\n",
            "Epoch 23/30\n",
            "129/129 [==============================] - 64s 496ms/step - loss: 0.8865 - accuracy: 0.8020 - precision: 0.6981 - recall: 0.3663 - auc: 0.8479 - f1_score: 0.4711 - val_loss: 0.9313 - val_accuracy: 0.7823 - val_precision: 0.6196 - val_recall: 0.3343 - val_auc: 0.8173 - val_f1_score: 0.4339\n",
            "Epoch 24/30\n",
            "129/129 [==============================] - 64s 498ms/step - loss: 0.8722 - accuracy: 0.8041 - precision: 0.6979 - recall: 0.3812 - auc: 0.8507 - f1_score: 0.4892 - val_loss: 0.9342 - val_accuracy: 0.7908 - val_precision: 0.6743 - val_recall: 0.3157 - val_auc: 0.8129 - val_f1_score: 0.4251\n",
            "Epoch 25/30\n",
            "129/129 [==============================] - 64s 496ms/step - loss: 0.8888 - accuracy: 0.8005 - precision: 0.7078 - recall: 0.3441 - auc: 0.8454 - f1_score: 0.4573 - val_loss: 0.9063 - val_accuracy: 0.7957 - val_precision: 0.7064 - val_recall: 0.3128 - val_auc: 0.8239 - val_f1_score: 0.4306\n",
            "Epoch 26/30\n",
            "129/129 [==============================] - 64s 497ms/step - loss: 0.8753 - accuracy: 0.8027 - precision: 0.6949 - recall: 0.3758 - auc: 0.8508 - f1_score: 0.4851 - val_loss: 0.9514 - val_accuracy: 0.7867 - val_precision: 0.6410 - val_recall: 0.3333 - val_auc: 0.8062 - val_f1_score: 0.4363\n",
            "Epoch 27/30\n",
            "129/129 [==============================] - 64s 497ms/step - loss: 0.8724 - accuracy: 0.8033 - precision: 0.6976 - recall: 0.3760 - auc: 0.8498 - f1_score: 0.4814 - val_loss: 0.9363 - val_accuracy: 0.7717 - val_precision: 0.5642 - val_recall: 0.3822 - val_auc: 0.8291 - val_f1_score: 0.4556\n",
            "Epoch 28/30\n",
            "129/129 [==============================] - 64s 498ms/step - loss: 0.8754 - accuracy: 0.8011 - precision: 0.6853 - recall: 0.3777 - auc: 0.8512 - f1_score: 0.4832 - val_loss: 0.9310 - val_accuracy: 0.7977 - val_precision: 0.7133 - val_recall: 0.3187 - val_auc: 0.8171 - val_f1_score: 0.4376\n",
            "Epoch 29/30\n",
            "129/129 [==============================] - 64s 501ms/step - loss: 0.8822 - accuracy: 0.8012 - precision: 0.6911 - recall: 0.3702 - auc: 0.8476 - f1_score: 0.4731 - val_loss: 0.9318 - val_accuracy: 0.7913 - val_precision: 0.6406 - val_recall: 0.3763 - val_auc: 0.8288 - val_f1_score: 0.4723\n",
            "Epoch 30/30\n",
            "129/129 [==============================] - 65s 502ms/step - loss: 0.8736 - accuracy: 0.8037 - precision: 0.6940 - recall: 0.3846 - auc: 0.8507 - f1_score: 0.4953 - val_loss: 0.9452 - val_accuracy: 0.7759 - val_precision: 0.5775 - val_recall: 0.3861 - val_auc: 0.8291 - val_f1_score: 0.4613\n"
          ]
        }
      ]
    },
    {
      "cell_type": "code",
      "source": [
        "plt.plot(history.history['loss'])\n",
        "plt.plot(history.history['val_loss'])\n",
        "plt.title('Model Loss')\n",
        "plt.ylabel('Loss')\n",
        "plt.xlabel('Epoch')\n",
        "plt.legend(['Train', 'Validation'], loc='upper left', bbox_to_anchor=(1,1))\n",
        "plt.show()"
      ],
      "metadata": {
        "colab": {
          "base_uri": "https://localhost:8080/",
          "height": 295
        },
        "id": "s4vNrw5GZ6bF",
        "outputId": "4415df36-fda7-47cb-e6c8-247d85346b51"
      },
      "execution_count": null,
      "outputs": [
        {
          "output_type": "display_data",
          "data": {
            "text/plain": [
              "<Figure size 432x288 with 1 Axes>"
            ],
            "image/png": "[encoded data removed]"
          },
          "metadata": {
            "needs_background": "light"
          }
        }
      ]
    },
    {
      "cell_type": "code",
      "source": [
        "# Summarize history for loss\n",
        "\n",
        "plt.plot(history.history['auc'])\n",
        "plt.plot(history.history['val_auc'])\n",
        "plt.title('Model AUC')\n",
        "plt.ylabel('AUC')\n",
        "plt.xlabel('Epoch')\n",
        "plt.legend(['Train', 'Validation'], loc='upper left', bbox_to_anchor=(1,1))\n",
        "plt.show()"
      ],
      "metadata": {
        "colab": {
          "base_uri": "https://localhost:8080/",
          "height": 295
        },
        "id": "u4oM13aeaD-W",
        "outputId": "bab069c7-4ceb-42d5-a885-7d940994874d"
      },
      "execution_count": null,
      "outputs": [
        {
          "output_type": "display_data",
          "data": {
            "text/plain": [
              "<Figure size 432x288 with 1 Axes>"
            ],
            "image/png": "[encoded data removed]"
          },
          "metadata": {
            "needs_background": "light"
          }
        }
      ]
    },
    {
      "cell_type": "code",
      "source": [
        "scores = model.evaluate_generator(test_dataset)"
      ],
      "metadata": {
        "colab": {
          "base_uri": "https://localhost:8080/"
        },
        "id": "b1ad-z5agCWS",
        "outputId": "53980bae-8718-43f1-afb7-6d5ed3412622"
      },
      "execution_count": null,
      "outputs": [
        {
          "output_type": "stream",
          "name": "stderr",
          "text": [
            "/usr/local/lib/python3.7/dist-packages/ipykernel_launcher.py:1: UserWarning: `Model.evaluate_generator` is deprecated and will be removed in a future version. Please use `Model.evaluate`, which supports generators.\n",
            "  \"\"\"Entry point for launching an IPython kernel.\n"
          ]
        }
      ]
    },
    {
      "cell_type": "code",
      "source": [
        "print(\"Accuracy = \", scores[1])\n",
        "print(\"Precision = \", scores[2])\n",
        "print(\"Recall = \", scores[3])\n",
        "print(\"AUC = \", scores[4])\n",
        "print(\"F1_score = \", scores[5])"
      ],
      "metadata": {
        "colab": {
          "base_uri": "https://localhost:8080/"
        },
        "id": "djP-Z55rgESI",
        "outputId": "6b9d3c62-de61-4e83-ba87-e05387b9acbd"
      },
      "execution_count": null,
      "outputs": [
        {
          "output_type": "stream",
          "name": "stdout",
          "text": [
            "Accuracy =  0.7939796447753906\n",
            "Precision =  0.6459143757820129\n",
            "Recall =  0.38936668634414673\n",
            "AUC =  0.8340491652488708\n",
            "F1_score =  0.4850277304649353\n"
          ]
        }
      ]
    },
    {
      "cell_type": "code",
      "source": [
        "# save the model to disk\n",
        "import pickle\n",
        "pickle.dump(model, open('cnn_model.p', 'wb'))"
      ],
      "metadata": {
        "colab": {
          "base_uri": "https://localhost:8080/"
        },
        "id": "i1buTUw4XSEi",
        "outputId": "6fd2f7c1-3c1a-4ea8-c279-b230547aa486"
      },
      "execution_count": null,
      "outputs": [
        {
          "output_type": "stream",
          "name": "stdout",
          "text": [
            "INFO:tensorflow:Assets written to: ram://e9fa70d6-a1cd-4daa-b60e-2e2abed98750/assets\n"
          ]
        }
      ]
    },
    {
      "cell_type": "code",
      "source": [
        "import numpy as np\n",
        "import matplotlib.pyplot as plt\n",
        "from matplotlib.pyplot import imshow\n",
        "import seaborn as sns\n",
        "sns.set_style('darkgrid')\n",
        "def cm_cr(test_gen, model):\n",
        "    preds=model.predict(test_gen)    \n",
        "    labels=test_gen.labels\n",
        "    classes=list(test_gen.class_indices.keys()) # ordered lst of class names \n",
        "    pred_list=[ ] # will store the predicted classes here\n",
        "    true_list=[]\n",
        "    for i, p in enumerate (preds):\n",
        "        index=np.argmax(p)\n",
        "        pred_list.append(classes[index])\n",
        "        true_list.append(classes[labels[i]])\n",
        "    y_pred=np.array(pred_list)\n",
        "    y_true=np.array(true_list)\n",
        "    clr = classification_report(y_true, y_pred, target_names=classes)\n",
        "    print(\"Classification Report:\\n----------------------\\n\", clr)\n",
        "    cm = confusion_matrix(y_true, y_pred )        \n",
        "    length=len(classes)\n",
        "    if length<8:\n",
        "        fig_width=8\n",
        "        fig_height=8\n",
        "    else:\n",
        "        fig_width= int(length * .5)\n",
        "        fig_height= int(length * .5)\n",
        "    plt.figure(figsize=(fig_width, fig_height))\n",
        "    sns.heatmap(cm, annot=True, vmin=0, fmt='g', cmap='Blues', cbar=False)       \n",
        "    plt.xticks(np.arange(length)+.5, classes, rotation= 90, fontsize=16)\n",
        "    plt.yticks(np.arange(length)+.5, classes, rotation=0, fontsize=16)\n",
        "    plt.xlabel(\"Predicted\")\n",
        "    plt.ylabel(\"Actual\")\n",
        "    plt.title(\"Confusion Matrix\")\n",
        "    plt.show()\n",
        "\n",
        "cm_cr(valid_dataset, model)"
      ],
      "metadata": {
        "colab": {
          "base_uri": "https://localhost:8080/",
          "height": 1000
        },
        "id": "pbqZUUT4ZBvp",
        "outputId": "d62c3e6a-9ee3-42c8-c656-41625cc08033"
      },
      "execution_count": null,
      "outputs": [
        {
          "output_type": "stream",
          "name": "stderr",
          "text": [
            "/usr/local/lib/python3.7/dist-packages/sklearn/metrics/_classification.py:1318: UndefinedMetricWarning: Precision and F-score are ill-defined and being set to 0.0 in labels with no predicted samples. Use `zero_division` parameter to control this behavior.\n",
            "  _warn_prf(average, modifier, msg_start, len(result))\n",
            "/usr/local/lib/python3.7/dist-packages/sklearn/metrics/_classification.py:1318: UndefinedMetricWarning: Precision and F-score are ill-defined and being set to 0.0 in labels with no predicted samples. Use `zero_division` parameter to control this behavior.\n",
            "  _warn_prf(average, modifier, msg_start, len(result))\n",
            "/usr/local/lib/python3.7/dist-packages/sklearn/metrics/_classification.py:1318: UndefinedMetricWarning: Precision and F-score are ill-defined and being set to 0.0 in labels with no predicted samples. Use `zero_division` parameter to control this behavior.\n",
            "  _warn_prf(average, modifier, msg_start, len(result))\n"
          ]
        },
        {
          "output_type": "stream",
          "name": "stdout",
          "text": [
            "Classification Report:\n",
            "----------------------\n",
            "                   precision    recall  f1-score   support\n",
            "\n",
            "    MildDemented       0.14      0.01      0.01       143\n",
            "ModerateDemented       0.00      0.00      0.00        10\n",
            "     NonDemented       0.49      0.48      0.49       512\n",
            "VeryMildDemented       0.35      0.49      0.41       358\n",
            "\n",
            "        accuracy                           0.42      1023\n",
            "       macro avg       0.24      0.25      0.23      1023\n",
            "    weighted avg       0.39      0.42      0.39      1023\n",
            "\n"
          ]
        },
        {
          "output_type": "display_data",
          "data": {
            "text/plain": [
              "<Figure size 576x576 with 1 Axes>"
            ],
            "image/png": "[encoded data removed]"
          },
          "metadata": {}
        }
      ]
    }
  ]
}